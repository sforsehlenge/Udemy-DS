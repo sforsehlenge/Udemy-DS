{
 "cells": [
  {
   "cell_type": "code",
   "execution_count": null,
   "id": "bfd9c8e8",
   "metadata": {},
   "outputs": [],
   "source": []
  },
  {
   "cell_type": "markdown",
   "id": "4d7864da",
   "metadata": {},
   "source": [
    "## handling missiing data set\n"
   ]
  },
  {
   "cell_type": "markdown",
   "id": "db67b6d9",
   "metadata": {},
   "source": []
  }
 ],
 "metadata": {
  "kernelspec": {
   "display_name": "venv",
   "language": "python",
   "name": "python3"
  },
  "language_info": {
   "name": "python",
   "version": "3.12.7"
  }
 },
 "nbformat": 4,
 "nbformat_minor": 5
}
