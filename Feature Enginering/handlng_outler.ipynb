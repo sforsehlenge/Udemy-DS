{
 "cells": [
  {
   "cell_type": "markdown",
   "id": "83aebbea",
   "metadata": {},
   "source": [
    "## 5 number summary And Box Plot"
   ]
  },
  {
   "cell_type": "markdown",
   "id": "465d75ec",
   "metadata": {},
   "source": [
    "#### Minimum , Maximum medium q1q3 and iqr"
   ]
  },
  {
   "cell_type": "markdown",
   "id": "6b57f6d2",
   "metadata": {},
   "source": []
  },
  {
   "cell_type": "code",
   "execution_count": 1,
   "id": "37c40455",
   "metadata": {},
   "outputs": [],
   "source": [
    "import numpy as np"
   ]
  },
  {
   "cell_type": "code",
   "execution_count": 2,
   "id": "2ebb6be9",
   "metadata": {},
   "outputs": [],
   "source": [
    "list_marks=[40,50,60,70,80,90,100,110,120,130,140,150,160,170,180,190]"
   ]
  },
  {
   "cell_type": "code",
   "execution_count": 3,
   "id": "97d9de1f",
   "metadata": {},
   "outputs": [],
   "source": [
    "minimum, Q1, median, Q3, maximum= np.quantile(list_marks,[0,0.25,0.5,0.75,1])"
   ]
  },
  {
   "cell_type": "code",
   "execution_count": 4,
   "id": "4cf90d09",
   "metadata": {},
   "outputs": [],
   "source": [
    "IQR= Q3-Q1"
   ]
  },
  {
   "cell_type": "code",
   "execution_count": 10,
   "id": "78948769",
   "metadata": {},
   "outputs": [
    {
     "data": {
      "text/plain": [
       "(np.float64(-35.0), np.float64(265.0))"
      ]
     },
     "execution_count": 10,
     "metadata": {},
     "output_type": "execute_result"
    }
   ],
   "source": [
    "lower_fense= Q1-1.5*IQR\n",
    "upper_fence= Q3+1.5*IQR\n",
    "lower_fense, upper_fence"
   ]
  },
  {
   "cell_type": "code",
   "execution_count": 8,
   "id": "e5dc02cb",
   "metadata": {},
   "outputs": [],
   "source": [
    "import seaborn as sns"
   ]
  },
  {
   "cell_type": "code",
   "execution_count": 9,
   "id": "3e274909",
   "metadata": {},
   "outputs": [
    {
     "data": {
      "text/plain": [
       "<Axes: >"
      ]
     },
     "execution_count": 9,
     "metadata": {},
     "output_type": "execute_result"
    },
    {
     "data": {
      "image/png": "[encoded data removed]",
      "text/plain": [
       "<Figure size 640x480 with 1 Axes>"
      ]
     },
     "metadata": {},
     "output_type": "display_data"
    }
   ],
   "source": [
    "sns.boxplot(list_marks)"
   ]
  },
  {
   "cell_type": "code",
   "execution_count": 16,
   "id": "ca32ad88",
   "metadata": {},
   "outputs": [
    {
     "data": {
      "text/plain": [
       "(np.float64(-115.0), np.float64(345.0))"
      ]
     },
     "execution_count": 16,
     "metadata": {},
     "output_type": "execute_result"
    }
   ],
   "source": [
    "list_marks=[-40,-90,-100,-500,40,50,60,70,80,90,100,110,120,130,140,150,160,170,180,190, 200, 300, 500, 900]\n",
    "minimum, Q1, median, Q3, maximum= np.quantile(list_marks,[0,0.25,0.5,0.75,1])\n",
    "IQR= Q3-Q1\n",
    "lower_fense= Q1-1.5*IQR\n",
    "upper_fence= Q3+1.5*IQR\n",
    "lower_fense, upper_fence"
   ]
  },
  {
   "cell_type": "code",
   "execution_count": 17,
   "id": "bb617314",
   "metadata": {},
   "outputs": [
    {
     "data": {
      "text/plain": [
       "<Axes: >"
      ]
     },
     "execution_count": 17,
     "metadata": {},
     "output_type": "execute_result"
    },
    {
     "data": {
      "image/png": "[encoded data removed]",
      "text/plain": [
       "<Figure size 640x480 with 1 Axes>"
      ]
     },
     "metadata": {},
     "output_type": "display_data"
    }
   ],
   "source": [
    "sns.boxplot(list_marks)"
   ]
  },
  {
   "cell_type": "code",
   "execution_count": null,
   "id": "e61e7097",
   "metadata": {},
   "outputs": [],
   "source": []
  }
 ],
 "metadata": {
  "kernelspec": {
   "display_name": "venv",
   "language": "python",
   "name": "python3"
  },
  "language_info": {
   "codemirror_mode": {
    "name": "ipython",
    "version": 3
   },
   "file_extension": ".py",
   "mimetype": "text/x-python",
   "name": "python",
   "nbconvert_exporter": "python",
   "pygments_lexer": "ipython3",
   "version": "3.12.7"
  }
 },
 "nbformat": 4,
 "nbformat_minor": 5
}
