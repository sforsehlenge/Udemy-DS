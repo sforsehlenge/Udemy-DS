{
 "cells": [
  {
   "cell_type": "markdown",
   "id": "83aebbea",
   "metadata": {},
   "source": [
    "## 5 number summary And Box Plot"
   ]
  },
  {
   "cell_type": "markdown",
   "id": "465d75ec",
   "metadata": {},
   "source": [
    "#### Minimum , Maximum medium q1q3 and iqr"
   ]
  },
  {
   "cell_type": "markdown",
   "id": "6b57f6d2",
   "metadata": {},
   "source": []
  },
  {
   "cell_type": "code",
   "execution_count": null,
   "id": "05c0d0ba",
   "metadata": {
    "vscode": {
     "languageId": "plaintext"
    }
   },
   "outputs": [],
   "source": []
  }
 ],
 "metadata": {
  "language_info": {
   "name": "python"
  }
 },
 "nbformat": 4,
 "nbformat_minor": 5
}
