{
 "cells": [
  {
   "cell_type": "code",
   "execution_count": 1,
   "id": "eedc23fb",
   "metadata": {},
   "outputs": [],
   "source": [
    "from sklearn.datasets import make_regression\n",
    "X,y = make_regression(\n",
    "    n_samples=1000,\n",
    "    n_features=2,\n",
    "    noise=10,\n",
    "    random_state=42)"
   ]
  },
  {
   "cell_type": "code",
   "execution_count": 2,
   "id": "76faa56e",
   "metadata": {},
   "outputs": [],
   "source": [
    "from sklearn.model_selection import train_test_split\n",
    "X_train, X_test, y_train, y_test = train_test_split(X, y,\n",
    "                                                    test_size=0.33,\n",
    "                                                    random_state=42)"
   ]
  },
  {
   "cell_type": "code",
   "execution_count": 8,
   "id": "44ccefba",
   "metadata": {},
   "outputs": [],
   "source": [
    "from sklearn.neighbors import KNeighborsRegressor\n",
    "regressor = KNeighborsRegressor(n_neighbors=6, algorithm='auto', p=2) "
   ]
  },
  {
   "cell_type": "code",
   "execution_count": 9,
   "id": "0b16c82d",
   "metadata": {},
   "outputs": [],
   "source": [
    "regressor.fit(X_train, y_train)\n",
    "y_pred = regressor.predict(X_test)"
   ]
  },
  {
   "cell_type": "code",
   "execution_count": 10,
   "id": "02fb5221",
   "metadata": {},
   "outputs": [
    {
     "name": "stdout",
     "output_type": "stream",
     "text": [
      "Mean Squared Error: 127.45860414317289\n",
      "R^2 Score: 0.9189275159979495\n",
      "Mean Absolute Error: 9.009462452972217\n",
      "Predictions: [ 44.28436588  -8.83610851 -18.33906448 -13.36468289  36.4901953\n",
      "  15.59754172  62.47359613 -30.6064089  -69.62828115 -10.37525416]\n",
      "Actual Values: [ 33.91180896  -1.97979693 -33.91986709 -25.57751852  41.12484462\n",
      "  22.86165584  62.04490806 -35.11001752 -81.78946988  -0.61858456]\n",
      "Shape of Predictions: (330,)\n",
      "Shape of Actual Values: (330,)\n",
      "First 10 Predictions: [ 44.28436588  -8.83610851 -18.33906448 -13.36468289  36.4901953\n",
      "  15.59754172  62.47359613 -30.6064089  -69.62828115 -10.37525416]\n",
      "First 10 Actual Values: [ 33.91180896  -1.97979693 -33.91986709 -25.57751852  41.12484462\n",
      "  22.86165584  62.04490806 -35.11001752 -81.78946988  -0.61858456]\n"
     ]
    }
   ],
   "source": [
    "from sklearn.metrics import mean_squared_error, r2_score, mean_absolute_error\n",
    "print(\"Mean Squared Error:\", mean_squared_error(y_test, y_pred))\n",
    "print(\"R^2 Score:\", r2_score(y_test, y_pred))\n",
    "print(\"Mean Absolute Error:\", mean_absolute_error(y_test, y_pred))\n",
    "print(\"Predictions:\", y_pred[:10])  # Display first 10 predictions\n",
    "print(\"Actual Values:\", y_test[:10])  # Display first 10 actual values\n",
    "print(\"Shape of Predictions:\", y_pred.shape)  # Display shape of predictions\n",
    "print(\"Shape of Actual Values:\", y_test.shape)  # Display shape of actual values\n",
    "print(\"First 10 Predictions:\", y_pred[:10])  # Display first 10 predictions\n",
    "print(\"First 10 Actual Values:\", y_test[:10])  # Display first 10"
   ]
  },
  {
   "cell_type": "code",
   "execution_count": null,
   "id": "86f78912",
   "metadata": {},
   "outputs": [],
   "source": []
  }
 ],
 "metadata": {
  "kernelspec": {
   "display_name": "venv",
   "language": "python",
   "name": "python3"
  },
  "language_info": {
   "codemirror_mode": {
    "name": "ipython",
    "version": 3
   },
   "file_extension": ".py",
   "mimetype": "text/x-python",
   "name": "python",
   "nbconvert_exporter": "python",
   "pygments_lexer": "ipython3",
   "version": "3.12.7"
  }
 },
 "nbformat": 4,
 "nbformat_minor": 5
}
